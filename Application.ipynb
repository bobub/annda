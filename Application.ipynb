{
 "cells": [
  {
   "cell_type": "code",
   "execution_count": 22,
   "metadata": {},
   "outputs": [],
   "source": [
    "import implementation"
   ]
  },
  {
   "cell_type": "code",
   "execution_count": 2,
   "metadata": {},
   "outputs": [],
   "source": [
    "import numpy as np\n",
    "from matplotlib import pyplot as plt\n",
    "from sklearn.datasets import make_classification"
   ]
  },
  {
   "cell_type": "code",
   "execution_count": 34,
   "metadata": {},
   "outputs": [],
   "source": [
    "#TO DO: create targets for the patterns\n",
    "\n",
    "def lin_sep_data(n=100, mA=np.array([1.5,1.5]), mB=np.array([-1.5,-1.5]), sigmaA=0.5, sigmaB=0.5):\n",
    "    \"\"\"\n",
    "    Creates 2 class lin sep dataset.\n",
    "    \n",
    "    Inputs:\n",
    "    n = samples (must be even number)\n",
    "    mA = mean of distrbution A\n",
    "    mB = ___________________ B\n",
    "    sigmaA = std. dev of A\n",
    "    sigmaB = ___________ B\n",
    "    \n",
    "    Outputs:\n",
    "    data = linearly separable dataset, where last column is targets (class), rest is patterns(features)\n",
    "    \"\"\"\n",
    "    \n",
    "    #keep making datasets until lin sep dataset is made ; will enter infinite loop if you choose shitty mean and sigmas\n",
    "    separable = False\n",
    "    while not separable:\n",
    "        \n",
    "        #create data\n",
    "        A = np.array([np.random.normal(mA[0],sigmaA,(n//2,1)), np.random.normal(mA[1],sigmaA,(n//2,1))]).reshape(n//2,2)\n",
    "        A = np.append(A,np.ones((n//2,1)),axis=1) # add targets\n",
    "        B = np.array([np.random.normal(mB[0],sigmaB,(n//2,1)), np.random.normal(mB[1],sigmaB,(n//2,1))]).reshape(n//2,2)\n",
    "        B = np.append(B,np.ones((n//2,1))*-1,axis=1) # add targets\n",
    "        \n",
    "        print(A.shape)\n",
    "        print(B.shape)\n",
    "        \n",
    "        #only checks for vertical or horizontal separability\n",
    "        separable = any([A[:, k].max() < B[:, k].min() or A[:, k].min() > B[:, k].max() for k in range(2)])\n",
    "        \n",
    "    #shuffle samples\n",
    "    data = np.append(A,B,axis=0)\n",
    "    data = np.random.shuffle(np.append(A,B,axis=0))\n",
    "    \n",
    "    #visualise\n",
    "    plt.plot(A[:, 0], A[:, 1], 'r.',label='class A')\n",
    "    plt.plot(B[:, 0], B[:, 1], 'b.',label='class B')\n",
    "    plt.legend()\n",
    "    plt.show()\n",
    "    \n",
    "    return data\n"
   ]
  },
  {
   "cell_type": "code",
   "execution_count": 35,
   "metadata": {},
   "outputs": [
    {
     "name": "stdout",
     "output_type": "stream",
     "text": [
      "(50, 3)\n",
      "(50, 3)\n"
     ]
    },
    {
     "data": {
      "image/png": "[encoded data removed]",
      "text/plain": [
       "<Figure size 432x288 with 1 Axes>"
      ]
     },
     "metadata": {
      "needs_background": "light"
     },
     "output_type": "display_data"
    },
    {
     "name": "stdout",
     "output_type": "stream",
     "text": [
      "()\n"
     ]
    }
   ],
   "source": [
    "data = lin_sep_data()\n",
    "print(np.shape(data))"
   ]
  },
  {
   "cell_type": "code",
   "execution_count": 23,
   "metadata": {},
   "outputs": [
    {
     "ename": "SyntaxError",
     "evalue": "unexpected EOF while parsing (<ipython-input-23-4f1ea4d344f2>, line 5)",
     "output_type": "error",
     "traceback": [
      "\u001b[1;36m  File \u001b[1;32m\"<ipython-input-23-4f1ea4d344f2>\"\u001b[1;36m, line \u001b[1;32m5\u001b[0m\n\u001b[1;33m    def __init__():\u001b[0m\n\u001b[1;37m                   ^\u001b[0m\n\u001b[1;31mSyntaxError\u001b[0m\u001b[1;31m:\u001b[0m unexpected EOF while parsing\n"
     ]
    }
   ],
   "source": [
    "class single_layered_perceptron():\n",
    "    \"\"\"\n",
    "    Creates a single layer perceptron with 2 inputs and 2 outputs. \n",
    "    Change layers and weight&bias initialisation shapes for other input/output dimensions.\n",
    "    \n",
    "    Inputs:\n",
    "    layers = [input,output]\n",
    "    update = 'batch' or 'sequential' learning\n",
    "    learning = 'delta' rule or 'perceptron' rule\n",
    "    lr = learning rate\n",
    "    weights = init by randomly sampled around 0 with std dev 1\n",
    "    bias = init as 0s\n",
    "    \"\"\"\n",
    "    \n",
    "    def __init__(self, layers=[2,2], lr=.1, update='batch', learning='perceptron', weights=np.random.normal(0,1,(2,2)), bias=np.zeros((1,2))):\n",
    "        \n",
    "        self.layers=layers\n",
    "        self.lr=.1\n",
    "        self.learning=learning\n",
    "        self.update = update\n",
    "        self.weights = np.append(weights,bias,axis=0) #biases are last weight matrix entry\n",
    "    \n",
    "    def batch(self):\n",
    "        \n",
    "        \n",
    "    "
   ]
  },
  {
   "cell_type": "code",
   "execution_count": null,
   "metadata": {},
   "outputs": [],
   "source": [
    "class neural_network():\n",
    "    def __init__(self, layers=[2, 100, 2], scale=.1, p=.1, lr=.1, lam=.1):\n",
    "        super().__init__()\n",
    "        self.weights = tr.nn.ParameterList([tr.nn.Parameter(scale * tr.randn(m, n)) for m, n in zip(layers[:-1], layers[1:])])\n",
    "        self.biases = tr.nn.ParameterList([tr.nn.Parameter(scale * tr.randn(n)) for n in layers[1:]])\n",
    "        self.parameters = list(self.weights) + list(self.biases)\n",
    "\n",
    "        self.p = p\n",
    "        self.lr = lr\n",
    "        self.lam = lam\n",
    "        self.train = False\n",
    "\n",
    "    def relu(self, X, W, b):\n",
    "        # algorithm 15, pg 46 from guide.pdf\n",
    "        if self.train:\n",
    "            delta = bernoulli.rvs(1 - self.p,\n",
    "                                  size=W.shape[1])  # sample 'out' many samples from Bernoulli distribution B(1-p)\n",
    "            Z = tr.from_numpy(delta) * tr.max(tr.zeros(X.shape[0], W.shape[1]), tr.mm(X, W) + b)\n",
    "\n",
    "        else:\n",
    "            Z = tr.max(tr.zeros(X.shape[0], W.shape[1]), (1 - self.p) * tr.mm(X, W) + b)\n",
    "\n",
    "        return Z\n",
    "\n",
    "    def softmax(self, Z, W, b):\n",
    "        # algorithm 16, pg 46 from guide.pdf\n",
    "        Z = tr.mm(Z, W) + b\n",
    "        y_hat = tr.div(tr.exp(Z).T, tr.sum(tr.exp(Z), dim=1)).T\n",
    "\n",
    "        return y_hat\n",
    "\n",
    "    def forward(self, X):\n",
    "        # algorithm 14, pg 45 from guide.pdf\n",
    "        X = tr.tensor(X, dtype=tr.float)\n",
    "        Z = X\n",
    "        # apply ReLU to all layers but the last\n",
    "        for w, b in zip(self.weights[:len(self.weights) - 1],\n",
    "                        self.biases[:len(self.biases) - 1]):  # iterate through L-1 layers\n",
    "            Z = self.relu(Z, w, b)\n",
    "        # apply softmax to last layer\n",
    "        y_hat = self.softmax(Z, self.weights[len(self.weights) - 1], self.biases[len(self.biases) - 1])\n",
    "\n",
    "        return y_hat\n",
    "\n",
    "    def predict(self, X):\n",
    "        return self.forward(X).detach().numpy()\n",
    "\n",
    "    def loss(self, ypred, ytrue):\n",
    "        # compute cross entropy loss according to pg47 from guide.pdf\n",
    "        loss = (-1 / ytrue.shape[0]) * tr.sum(ytrue * tr.log(ypred))\n",
    "\n",
    "        return loss\n",
    "\n",
    "    def fit(self, X, y, nsteps=1000, bs=100, plot=False):\n",
    "        X, y = tr.tensor(X), tr.tensor(y)\n",
    "        optimizer = tr.optim.SGD(self.parameters, lr=self.lr, weight_decay=self.lam)\n",
    "\n",
    "        I = tr.randperm(X.shape[0])\n",
    "        n = int(np.ceil(.1 * X.shape[0]))\n",
    "        Xtrain, ytrain = X[I[:n]], y[I[:n]]\n",
    "        Xval, yval = X[I[n:]], y[I[n:]]\n",
    "\n",
    "        Ltrain, Lval, Aval = [], [], []\n",
    "        for i in range(nsteps):\n",
    "            optimizer.zero_grad()\n",
    "            I = tr.randperm(Xtrain.shape[0])[:bs]\n",
    "            self.train = True\n",
    "            output = self.loss(self.forward(Xtrain[I]), ytrain[I])\n",
    "            self.train = False\n",
    "            Ltrain += [output.item()]\n",
    "            output.backward()\n",
    "            optimizer.step()\n",
    "\n",
    "            outval = self.forward(Xval)\n",
    "            Lval += [self.loss(outval, yval).item()]\n",
    "            Aval += [np.array(outval.argmax(-1) == yval.argmax(-1)).mean()]\n",
    "\n",
    "        if plot:\n",
    "            plt.plot(range(nsteps), Ltrain, label='Training loss')\n",
    "            plt.plot(range(nsteps), Lval, label='Validation loss')\n",
    "            plt.plot(range(nsteps), Aval, label='Validation acc')\n",
    "            plt.legend()\n",
    "            plt.show()"
   ]
  }
 ],
 "metadata": {
  "kernelspec": {
   "display_name": "Python 3",
   "language": "python",
   "name": "python3"
  },
  "language_info": {
   "codemirror_mode": {
    "name": "ipython",
    "version": 3
   },
   "file_extension": ".py",
   "mimetype": "text/x-python",
   "name": "python",
   "nbconvert_exporter": "python",
   "pygments_lexer": "ipython3",
   "version": "3.7.3"
  }
 },
 "nbformat": 4,
 "nbformat_minor": 2
}
